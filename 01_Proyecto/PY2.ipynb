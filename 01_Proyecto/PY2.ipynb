{
 "cells": [
  {
   "cell_type": "code",
   "execution_count": 1,
   "metadata": {},
   "outputs": [],
   "source": [
    "%matplotlib inline\n",
    "#%matplotlib qt\n",
    "import pandas as pd\n",
    "from mpl_toolkits import mplot3d\n",
    "import matplotlib.pyplot as plt\n",
    "from pandas.plotting import scatter_matrix\n",
    "from sklearn.preprocessing import OneHotEncoder\n",
    "from sklearn.pipeline import Pipeline\n",
    "from sklearn.preprocessing import StandardScaler\n",
    "from sklearn.compose import ColumnTransformer\n",
    "from sklearn.model_selection import train_test_split\n",
    "from sklearn.linear_model import LinearRegression\n",
    "from sklearn.linear_model import Ridge\n",
    "from sklearn.tree import DecisionTreeRegressor\n",
    "from sklearn.metrics import mean_squared_error\n",
    "from sklearn.tree import export_text\n",
    "import seaborn as sns\n",
    "from scipy.stats import chi2_contingency\n",
    "from sklearn.feature_selection import f_classif\n",
    "import rarbol"
   ]
  },
  {
   "cell_type": "code",
   "execution_count": 2,
   "metadata": {},
   "outputs": [
    {
     "data": {
      "text/html": [
       "<div>\n",
       "<style scoped>\n",
       "    .dataframe tbody tr th:only-of-type {\n",
       "        vertical-align: middle;\n",
       "    }\n",
       "\n",
       "    .dataframe tbody tr th {\n",
       "        vertical-align: top;\n",
       "    }\n",
       "\n",
       "    .dataframe thead th {\n",
       "        text-align: right;\n",
       "    }\n",
       "</style>\n",
       "<table border=\"1\" class=\"dataframe\">\n",
       "  <thead>\n",
       "    <tr style=\"text-align: right;\">\n",
       "      <th></th>\n",
       "      <th>juegoNombre</th>\n",
       "      <th>juegoURL</th>\n",
       "      <th>VideoNombre</th>\n",
       "      <th>juegoPalabras</th>\n",
       "      <th>juegoLugar</th>\n",
       "      <th>juegoRating</th>\n",
       "      <th>juegoAvRating</th>\n",
       "      <th>juegoVoters</th>\n",
       "      <th>juegoAno</th>\n",
       "      <th>videoVistas</th>\n",
       "      <th>videoURL</th>\n",
       "      <th>videoMeses</th>\n",
       "      <th>videoMesesVistas</th>\n",
       "      <th>coincidencias</th>\n",
       "      <th>canalNombre</th>\n",
       "      <th>canalURL</th>\n",
       "      <th>canalSuscriptores</th>\n",
       "      <th>canalMeses</th>\n",
       "      <th>canalVistas</th>\n",
       "      <th>canalIdioma</th>\n",
       "    </tr>\n",
       "  </thead>\n",
       "  <tbody>\n",
       "    <tr>\n",
       "      <th>0</th>\n",
       "      <td>Die Macher</td>\n",
       "      <td>/boardgame/1/die-macher</td>\n",
       "      <td>ë”” ë§ˆí—ˆ ë³´ë“œê²Œìž„ í•˜ëŠ” ë²• | Die Mache...</td>\n",
       "      <td>2</td>\n",
       "      <td>298</td>\n",
       "      <td>7.116</td>\n",
       "      <td>7.62</td>\n",
       "      <td>5273</td>\n",
       "      <td>1986</td>\n",
       "      <td>7942</td>\n",
       "      <td>/watch?v=R0JYiynyqOg</td>\n",
       "      <td>11</td>\n",
       "      <td>722</td>\n",
       "      <td>1</td>\n",
       "      <td>ë³´ë“œë¼ì´ë¸Œ BoardLiveGame</td>\n",
       "      <td>/channel/UC7MbQzcQc73UU489d8cR1VA</td>\n",
       "      <td>36500</td>\n",
       "      <td>53</td>\n",
       "      <td>10057308</td>\n",
       "      <td>ko</td>\n",
       "    </tr>\n",
       "    <tr>\n",
       "      <th>1</th>\n",
       "      <td>Die Macher</td>\n",
       "      <td>/boardgame/1/die-macher</td>\n",
       "      <td>BOARD NEWS - Nowa akcja, Nemesis Lockdown , An...</td>\n",
       "      <td>2</td>\n",
       "      <td>298</td>\n",
       "      <td>7.116</td>\n",
       "      <td>7.62</td>\n",
       "      <td>5273</td>\n",
       "      <td>1986</td>\n",
       "      <td>5925</td>\n",
       "      <td>/watch?v=xv6rhHI2Dlg</td>\n",
       "      <td>12</td>\n",
       "      <td>494</td>\n",
       "      <td>1</td>\n",
       "      <td>ON TABLE Gry Planszowe</td>\n",
       "      <td>/channel/UCJldBgJLwVRGmdAQHt8ZoQg</td>\n",
       "      <td>22400</td>\n",
       "      <td>91</td>\n",
       "      <td>3636933</td>\n",
       "      <td>pl</td>\n",
       "    </tr>\n",
       "    <tr>\n",
       "      <th>2</th>\n",
       "      <td>Die Macher</td>\n",
       "      <td>/boardgame/1/die-macher</td>\n",
       "      <td>ë³´ë¼ëŒì´ì˜ ì„ íƒ 2020 ë³´ë“œë¼ì´ë¸Œ ë¯...</td>\n",
       "      <td>2</td>\n",
       "      <td>298</td>\n",
       "      <td>7.116</td>\n",
       "      <td>7.62</td>\n",
       "      <td>5273</td>\n",
       "      <td>1986</td>\n",
       "      <td>5154</td>\n",
       "      <td>/watch?v=rvkRQPV2j34</td>\n",
       "      <td>11</td>\n",
       "      <td>469</td>\n",
       "      <td>1</td>\n",
       "      <td>ë³´ë“œë¼ì´ë¸Œ BoardLiveGame</td>\n",
       "      <td>/channel/UC7MbQzcQc73UU489d8cR1VA</td>\n",
       "      <td>36500</td>\n",
       "      <td>53</td>\n",
       "      <td>10057308</td>\n",
       "      <td>ko</td>\n",
       "    </tr>\n",
       "    <tr>\n",
       "      <th>3</th>\n",
       "      <td>Die Macher</td>\n",
       "      <td>/boardgame/1/die-macher</td>\n",
       "      <td>Co jest grane? Die Macher, WybrzeÅ¼e Mieczy i ...</td>\n",
       "      <td>2</td>\n",
       "      <td>298</td>\n",
       "      <td>7.116</td>\n",
       "      <td>7.62</td>\n",
       "      <td>5273</td>\n",
       "      <td>1986</td>\n",
       "      <td>5100</td>\n",
       "      <td>/watch?v=4cR0Iy0ZikY</td>\n",
       "      <td>12</td>\n",
       "      <td>425</td>\n",
       "      <td>1</td>\n",
       "      <td>GameTrollTV Gry Planszowe</td>\n",
       "      <td>/user/GameTrollTV</td>\n",
       "      <td>45100</td>\n",
       "      <td>131</td>\n",
       "      <td>12088604</td>\n",
       "      <td>pl</td>\n",
       "    </tr>\n",
       "    <tr>\n",
       "      <th>4</th>\n",
       "      <td>Die Macher</td>\n",
       "      <td>/boardgame/1/die-macher</td>\n",
       "      <td>Die Macher - Brettspiel - Let's Play mit Peat ...</td>\n",
       "      <td>2</td>\n",
       "      <td>298</td>\n",
       "      <td>7.116</td>\n",
       "      <td>7.62</td>\n",
       "      <td>5273</td>\n",
       "      <td>1986</td>\n",
       "      <td>7867</td>\n",
       "      <td>/watch?v=-SI-ZxihlBE</td>\n",
       "      <td>24</td>\n",
       "      <td>328</td>\n",
       "      <td>1</td>\n",
       "      <td>Hunter &amp; Friends - Brettspiele</td>\n",
       "      <td>/user/hunterundcron</td>\n",
       "      <td>64000</td>\n",
       "      <td>92</td>\n",
       "      <td>29073868</td>\n",
       "      <td>de</td>\n",
       "    </tr>\n",
       "  </tbody>\n",
       "</table>\n",
       "</div>"
      ],
      "text/plain": [
       "  juegoNombre                 juegoURL  \\\n",
       "0  Die Macher  /boardgame/1/die-macher   \n",
       "1  Die Macher  /boardgame/1/die-macher   \n",
       "2  Die Macher  /boardgame/1/die-macher   \n",
       "3  Die Macher  /boardgame/1/die-macher   \n",
       "4  Die Macher  /boardgame/1/die-macher   \n",
       "\n",
       "                                         VideoNombre  juegoPalabras  \\\n",
       "0  ë”” ë§ˆí—ˆ ë³´ë“œê²Œìž„ í•˜ëŠ” ë²• | Die Mache...              2   \n",
       "1  BOARD NEWS - Nowa akcja, Nemesis Lockdown , An...              2   \n",
       "2  ë³´ë¼ëŒì´ì˜ ì„ íƒ 2020 ë³´ë“œë¼ì´ë¸Œ ë¯...              2   \n",
       "3  Co jest grane? Die Macher, WybrzeÅ¼e Mieczy i ...              2   \n",
       "4  Die Macher - Brettspiel - Let's Play mit Peat ...              2   \n",
       "\n",
       "   juegoLugar  juegoRating  juegoAvRating  juegoVoters  juegoAno  videoVistas  \\\n",
       "0         298        7.116           7.62         5273      1986         7942   \n",
       "1         298        7.116           7.62         5273      1986         5925   \n",
       "2         298        7.116           7.62         5273      1986         5154   \n",
       "3         298        7.116           7.62         5273      1986         5100   \n",
       "4         298        7.116           7.62         5273      1986         7867   \n",
       "\n",
       "               videoURL  videoMeses  videoMesesVistas  coincidencias  \\\n",
       "0  /watch?v=R0JYiynyqOg          11               722              1   \n",
       "1  /watch?v=xv6rhHI2Dlg          12               494              1   \n",
       "2  /watch?v=rvkRQPV2j34          11               469              1   \n",
       "3  /watch?v=4cR0Iy0ZikY          12               425              1   \n",
       "4  /watch?v=-SI-ZxihlBE          24               328              1   \n",
       "\n",
       "                      canalNombre                           canalURL  \\\n",
       "0   ë³´ë“œë¼ì´ë¸Œ BoardLiveGame  /channel/UC7MbQzcQc73UU489d8cR1VA   \n",
       "1          ON TABLE Gry Planszowe  /channel/UCJldBgJLwVRGmdAQHt8ZoQg   \n",
       "2   ë³´ë“œë¼ì´ë¸Œ BoardLiveGame  /channel/UC7MbQzcQc73UU489d8cR1VA   \n",
       "3       GameTrollTV Gry Planszowe                  /user/GameTrollTV   \n",
       "4  Hunter & Friends - Brettspiele                /user/hunterundcron   \n",
       "\n",
       "   canalSuscriptores  canalMeses  canalVistas canalIdioma  \n",
       "0              36500          53     10057308          ko  \n",
       "1              22400          91      3636933          pl  \n",
       "2              36500          53     10057308          ko  \n",
       "3              45100         131     12088604          pl  \n",
       "4              64000          92     29073868          de  "
      ]
     },
     "execution_count": 2,
     "metadata": {},
     "output_type": "execute_result"
    }
   ],
   "source": [
    "data = pd.read_csv('BaseVideosFinal.csv')\n",
    "data.head()"
   ]
  },
  {
   "cell_type": "markdown",
   "metadata": {},
   "source": [
    "# Eliminamos información no relevante"
   ]
  },
  {
   "cell_type": "code",
   "execution_count": 3,
   "metadata": {},
   "outputs": [
    {
     "data": {
      "text/html": [
       "<div>\n",
       "<style scoped>\n",
       "    .dataframe tbody tr th:only-of-type {\n",
       "        vertical-align: middle;\n",
       "    }\n",
       "\n",
       "    .dataframe tbody tr th {\n",
       "        vertical-align: top;\n",
       "    }\n",
       "\n",
       "    .dataframe thead th {\n",
       "        text-align: right;\n",
       "    }\n",
       "</style>\n",
       "<table border=\"1\" class=\"dataframe\">\n",
       "  <thead>\n",
       "    <tr style=\"text-align: right;\">\n",
       "      <th></th>\n",
       "      <th>juegoNombre</th>\n",
       "      <th>juegoRating</th>\n",
       "      <th>juegoAvRating</th>\n",
       "      <th>juegoVoters</th>\n",
       "      <th>juegoAno</th>\n",
       "      <th>videoVistas</th>\n",
       "      <th>videoMeses</th>\n",
       "      <th>canalSuscriptores</th>\n",
       "      <th>canalMeses</th>\n",
       "      <th>canalVistas</th>\n",
       "      <th>canalIdioma</th>\n",
       "    </tr>\n",
       "  </thead>\n",
       "  <tbody>\n",
       "    <tr>\n",
       "      <th>0</th>\n",
       "      <td>Die Macher</td>\n",
       "      <td>7.116</td>\n",
       "      <td>7.62</td>\n",
       "      <td>5273</td>\n",
       "      <td>1986</td>\n",
       "      <td>7942</td>\n",
       "      <td>11</td>\n",
       "      <td>36500</td>\n",
       "      <td>53</td>\n",
       "      <td>10057308</td>\n",
       "      <td>ko</td>\n",
       "    </tr>\n",
       "    <tr>\n",
       "      <th>1</th>\n",
       "      <td>Die Macher</td>\n",
       "      <td>7.116</td>\n",
       "      <td>7.62</td>\n",
       "      <td>5273</td>\n",
       "      <td>1986</td>\n",
       "      <td>5925</td>\n",
       "      <td>12</td>\n",
       "      <td>22400</td>\n",
       "      <td>91</td>\n",
       "      <td>3636933</td>\n",
       "      <td>pl</td>\n",
       "    </tr>\n",
       "    <tr>\n",
       "      <th>2</th>\n",
       "      <td>Die Macher</td>\n",
       "      <td>7.116</td>\n",
       "      <td>7.62</td>\n",
       "      <td>5273</td>\n",
       "      <td>1986</td>\n",
       "      <td>5154</td>\n",
       "      <td>11</td>\n",
       "      <td>36500</td>\n",
       "      <td>53</td>\n",
       "      <td>10057308</td>\n",
       "      <td>ko</td>\n",
       "    </tr>\n",
       "    <tr>\n",
       "      <th>3</th>\n",
       "      <td>Die Macher</td>\n",
       "      <td>7.116</td>\n",
       "      <td>7.62</td>\n",
       "      <td>5273</td>\n",
       "      <td>1986</td>\n",
       "      <td>5100</td>\n",
       "      <td>12</td>\n",
       "      <td>45100</td>\n",
       "      <td>131</td>\n",
       "      <td>12088604</td>\n",
       "      <td>pl</td>\n",
       "    </tr>\n",
       "    <tr>\n",
       "      <th>4</th>\n",
       "      <td>Die Macher</td>\n",
       "      <td>7.116</td>\n",
       "      <td>7.62</td>\n",
       "      <td>5273</td>\n",
       "      <td>1986</td>\n",
       "      <td>7867</td>\n",
       "      <td>24</td>\n",
       "      <td>64000</td>\n",
       "      <td>92</td>\n",
       "      <td>29073868</td>\n",
       "      <td>de</td>\n",
       "    </tr>\n",
       "  </tbody>\n",
       "</table>\n",
       "</div>"
      ],
      "text/plain": [
       "  juegoNombre  juegoRating  juegoAvRating  juegoVoters  juegoAno  videoVistas  \\\n",
       "0  Die Macher        7.116           7.62         5273      1986         7942   \n",
       "1  Die Macher        7.116           7.62         5273      1986         5925   \n",
       "2  Die Macher        7.116           7.62         5273      1986         5154   \n",
       "3  Die Macher        7.116           7.62         5273      1986         5100   \n",
       "4  Die Macher        7.116           7.62         5273      1986         7867   \n",
       "\n",
       "   videoMeses  canalSuscriptores  canalMeses  canalVistas canalIdioma  \n",
       "0          11              36500          53     10057308          ko  \n",
       "1          12              22400          91      3636933          pl  \n",
       "2          11              36500          53     10057308          ko  \n",
       "3          12              45100         131     12088604          pl  \n",
       "4          24              64000          92     29073868          de  "
      ]
     },
     "execution_count": 3,
     "metadata": {},
     "output_type": "execute_result"
    }
   ],
   "source": [
    "data2 = data.drop(['juegoNombre','canalIdioma','juegoAno','juegoURL','VideoNombre','juegoPalabras','juegoLugar','videoURL','videoMesesVistas','coincidencias','canalNombre','canalURL'],axis=1)\n",
    "data = data.drop(['juegoURL','VideoNombre','juegoPalabras','juegoLugar','videoURL','videoMesesVistas','coincidencias','canalNombre','canalURL'],axis=1)\n",
    "data.head()"
   ]
  },
  {
   "cell_type": "code",
   "execution_count": 4,
   "metadata": {},
   "outputs": [
    {
     "name": "stdout",
     "output_type": "stream",
     "text": [
      "<class 'pandas.core.frame.DataFrame'>\n",
      "RangeIndex: 87286 entries, 0 to 87285\n",
      "Data columns (total 11 columns):\n",
      " #   Column             Non-Null Count  Dtype  \n",
      "---  ------             --------------  -----  \n",
      " 0   juegoNombre        87286 non-null  object \n",
      " 1   juegoRating        87286 non-null  float64\n",
      " 2   juegoAvRating      87286 non-null  float64\n",
      " 3   juegoVoters        87286 non-null  int64  \n",
      " 4   juegoAno           87286 non-null  int64  \n",
      " 5   videoVistas        87286 non-null  int64  \n",
      " 6   videoMeses         87286 non-null  int64  \n",
      " 7   canalSuscriptores  87286 non-null  int64  \n",
      " 8   canalMeses         87286 non-null  int64  \n",
      " 9   canalVistas        87286 non-null  int64  \n",
      " 10  canalIdioma        87286 non-null  object \n",
      "dtypes: float64(2), int64(7), object(2)\n",
      "memory usage: 7.3+ MB\n"
     ]
    }
   ],
   "source": [
    "data.info()"
   ]
  },
  {
   "cell_type": "code",
   "execution_count": 5,
   "metadata": {},
   "outputs": [
    {
     "data": {
      "text/html": [
       "<div>\n",
       "<style scoped>\n",
       "    .dataframe tbody tr th:only-of-type {\n",
       "        vertical-align: middle;\n",
       "    }\n",
       "\n",
       "    .dataframe tbody tr th {\n",
       "        vertical-align: top;\n",
       "    }\n",
       "\n",
       "    .dataframe thead th {\n",
       "        text-align: right;\n",
       "    }\n",
       "</style>\n",
       "<table border=\"1\" class=\"dataframe\">\n",
       "  <thead>\n",
       "    <tr style=\"text-align: right;\">\n",
       "      <th></th>\n",
       "      <th>juegoRating</th>\n",
       "      <th>juegoAvRating</th>\n",
       "      <th>juegoVoters</th>\n",
       "      <th>juegoAno</th>\n",
       "      <th>videoVistas</th>\n",
       "      <th>videoMeses</th>\n",
       "      <th>canalSuscriptores</th>\n",
       "      <th>canalMeses</th>\n",
       "      <th>canalVistas</th>\n",
       "    </tr>\n",
       "  </thead>\n",
       "  <tbody>\n",
       "    <tr>\n",
       "      <th>count</th>\n",
       "      <td>87286.000000</td>\n",
       "      <td>87286.000000</td>\n",
       "      <td>87286.000000</td>\n",
       "      <td>87286.000000</td>\n",
       "      <td>8.728600e+04</td>\n",
       "      <td>87286.000000</td>\n",
       "      <td>8.728600e+04</td>\n",
       "      <td>87286.000000</td>\n",
       "      <td>8.728600e+04</td>\n",
       "    </tr>\n",
       "    <tr>\n",
       "      <th>mean</th>\n",
       "      <td>6.623815</td>\n",
       "      <td>7.382384</td>\n",
       "      <td>8418.335357</td>\n",
       "      <td>2013.999404</td>\n",
       "      <td>1.020357e+04</td>\n",
       "      <td>33.917673</td>\n",
       "      <td>7.124910e+04</td>\n",
       "      <td>98.334418</td>\n",
       "      <td>4.124369e+07</td>\n",
       "    </tr>\n",
       "    <tr>\n",
       "      <th>std</th>\n",
       "      <td>0.661473</td>\n",
       "      <td>0.557657</td>\n",
       "      <td>13215.097620</td>\n",
       "      <td>6.814632</td>\n",
       "      <td>1.597206e+05</td>\n",
       "      <td>27.411250</td>\n",
       "      <td>5.628726e+05</td>\n",
       "      <td>46.807800</td>\n",
       "      <td>5.252353e+08</td>\n",
       "    </tr>\n",
       "    <tr>\n",
       "      <th>min</th>\n",
       "      <td>5.661000</td>\n",
       "      <td>5.810000</td>\n",
       "      <td>106.000000</td>\n",
       "      <td>1909.000000</td>\n",
       "      <td>0.000000e+00</td>\n",
       "      <td>1.000000</td>\n",
       "      <td>0.000000e+00</td>\n",
       "      <td>4.000000</td>\n",
       "      <td>4.640000e+02</td>\n",
       "    </tr>\n",
       "    <tr>\n",
       "      <th>25%</th>\n",
       "      <td>6.037000</td>\n",
       "      <td>6.990000</td>\n",
       "      <td>1011.000000</td>\n",
       "      <td>2012.000000</td>\n",
       "      <td>2.830000e+02</td>\n",
       "      <td>12.000000</td>\n",
       "      <td>1.590000e+03</td>\n",
       "      <td>60.000000</td>\n",
       "      <td>2.731620e+05</td>\n",
       "    </tr>\n",
       "    <tr>\n",
       "      <th>50%</th>\n",
       "      <td>6.578000</td>\n",
       "      <td>7.370000</td>\n",
       "      <td>2931.000000</td>\n",
       "      <td>2016.000000</td>\n",
       "      <td>1.056000e+03</td>\n",
       "      <td>24.000000</td>\n",
       "      <td>5.980000e+03</td>\n",
       "      <td>92.000000</td>\n",
       "      <td>1.267954e+06</td>\n",
       "    </tr>\n",
       "    <tr>\n",
       "      <th>75%</th>\n",
       "      <td>7.096000</td>\n",
       "      <td>7.770000</td>\n",
       "      <td>9577.000000</td>\n",
       "      <td>2018.000000</td>\n",
       "      <td>3.968000e+03</td>\n",
       "      <td>48.000000</td>\n",
       "      <td>2.510000e+04</td>\n",
       "      <td>128.000000</td>\n",
       "      <td>5.878545e+06</td>\n",
       "    </tr>\n",
       "    <tr>\n",
       "      <th>max</th>\n",
       "      <td>8.456000</td>\n",
       "      <td>9.110000</td>\n",
       "      <td>86642.000000</td>\n",
       "      <td>2021.000000</td>\n",
       "      <td>2.537703e+07</td>\n",
       "      <td>180.000000</td>\n",
       "      <td>3.000000e+07</td>\n",
       "      <td>186.000000</td>\n",
       "      <td>4.789800e+10</td>\n",
       "    </tr>\n",
       "  </tbody>\n",
       "</table>\n",
       "</div>"
      ],
      "text/plain": [
       "        juegoRating  juegoAvRating   juegoVoters      juegoAno   videoVistas  \\\n",
       "count  87286.000000   87286.000000  87286.000000  87286.000000  8.728600e+04   \n",
       "mean       6.623815       7.382384   8418.335357   2013.999404  1.020357e+04   \n",
       "std        0.661473       0.557657  13215.097620      6.814632  1.597206e+05   \n",
       "min        5.661000       5.810000    106.000000   1909.000000  0.000000e+00   \n",
       "25%        6.037000       6.990000   1011.000000   2012.000000  2.830000e+02   \n",
       "50%        6.578000       7.370000   2931.000000   2016.000000  1.056000e+03   \n",
       "75%        7.096000       7.770000   9577.000000   2018.000000  3.968000e+03   \n",
       "max        8.456000       9.110000  86642.000000   2021.000000  2.537703e+07   \n",
       "\n",
       "         videoMeses  canalSuscriptores    canalMeses   canalVistas  \n",
       "count  87286.000000       8.728600e+04  87286.000000  8.728600e+04  \n",
       "mean      33.917673       7.124910e+04     98.334418  4.124369e+07  \n",
       "std       27.411250       5.628726e+05     46.807800  5.252353e+08  \n",
       "min        1.000000       0.000000e+00      4.000000  4.640000e+02  \n",
       "25%       12.000000       1.590000e+03     60.000000  2.731620e+05  \n",
       "50%       24.000000       5.980000e+03     92.000000  1.267954e+06  \n",
       "75%       48.000000       2.510000e+04    128.000000  5.878545e+06  \n",
       "max      180.000000       3.000000e+07    186.000000  4.789800e+10  "
      ]
     },
     "execution_count": 5,
     "metadata": {},
     "output_type": "execute_result"
    }
   ],
   "source": [
    "data.describe()"
   ]
  },
  {
   "cell_type": "code",
   "execution_count": 6,
   "metadata": {},
   "outputs": [
    {
     "data": {
      "image/png": "[encoded data removed]",
      "text/plain": [
       "<Figure size 1440x1080 with 9 Axes>"
      ]
     },
     "metadata": {
      "needs_background": "light"
     },
     "output_type": "display_data"
    }
   ],
   "source": [
    "data.hist(bins=50, figsize=(20,15))\n",
    "plt.show()"
   ]
  },
  {
   "cell_type": "code",
   "execution_count": 7,
   "metadata": {},
   "outputs": [
    {
     "data": {
      "text/plain": [
       "videoVistas          1.000000\n",
       "canalVistas          0.678406\n",
       "canalSuscriptores    0.562101\n",
       "videoMeses           0.033045\n",
       "canalMeses           0.027702\n",
       "juegoVoters          0.020725\n",
       "juegoRating         -0.004481\n",
       "juegoAvRating       -0.022976\n",
       "juegoAno            -0.026716\n",
       "Name: videoVistas, dtype: float64"
      ]
     },
     "execution_count": 7,
     "metadata": {},
     "output_type": "execute_result"
    }
   ],
   "source": [
    "corr_matrix = data.corr()\n",
    "corr_matrix[\"videoVistas\"].sort_values(ascending=False)"
   ]
  },
  {
   "cell_type": "code",
   "execution_count": 8,
   "metadata": {},
   "outputs": [
    {
     "data": {
      "text/plain": [
       "<matplotlib.axes._subplots.AxesSubplot at 0x1cba458c108>"
      ]
     },
     "execution_count": 8,
     "metadata": {},
     "output_type": "execute_result"
    },
    {
     "data": {
      "image/png": "[encoded data removed]",
      "text/plain": [
       "<Figure size 720x720 with 2 Axes>"
      ]
     },
     "metadata": {
      "needs_background": "light"
     },
     "output_type": "display_data"
    }
   ],
   "source": [
    "plt.figure(figsize=(10,10))\n",
    "sns.heatmap(corr_matrix)"
   ]
  },
  {
   "cell_type": "code",
   "execution_count": 9,
   "metadata": {},
   "outputs": [],
   "source": [
    "Y = data[\"videoVistas\"]\n",
    "X = data.drop([\"videoVistas\"],axis=1)\n",
    "X_cat = data.select_dtypes(include = 'object').copy()\n"
   ]
  },
  {
   "cell_type": "code",
   "execution_count": 10,
   "metadata": {},
   "outputs": [
    {
     "data": {
      "text/plain": [
       "array([[<matplotlib.axes._subplots.AxesSubplot object at 0x000001CBA4BCCB08>,\n",
       "        <matplotlib.axes._subplots.AxesSubplot object at 0x000001CBA4D6B848>,\n",
       "        <matplotlib.axes._subplots.AxesSubplot object at 0x000001CBA4DA0E08>,\n",
       "        <matplotlib.axes._subplots.AxesSubplot object at 0x000001CBA510AC88>],\n",
       "       [<matplotlib.axes._subplots.AxesSubplot object at 0x000001CBA56F2D08>,\n",
       "        <matplotlib.axes._subplots.AxesSubplot object at 0x000001CBA572BE48>,\n",
       "        <matplotlib.axes._subplots.AxesSubplot object at 0x000001CBA5764F08>,\n",
       "        <matplotlib.axes._subplots.AxesSubplot object at 0x000001CBA57A3048>],\n",
       "       [<matplotlib.axes._subplots.AxesSubplot object at 0x000001CBA57A8C08>,\n",
       "        <matplotlib.axes._subplots.AxesSubplot object at 0x000001CBA57E0DC8>,\n",
       "        <matplotlib.axes._subplots.AxesSubplot object at 0x000001CBA7C8B388>,\n",
       "        <matplotlib.axes._subplots.AxesSubplot object at 0x000001CBA7CC4448>],\n",
       "       [<matplotlib.axes._subplots.AxesSubplot object at 0x000001CBA7CFC588>,\n",
       "        <matplotlib.axes._subplots.AxesSubplot object at 0x000001CBA7D3AE88>,\n",
       "        <matplotlib.axes._subplots.AxesSubplot object at 0x000001CBA7D6D788>,\n",
       "        <matplotlib.axes._subplots.AxesSubplot object at 0x000001CBA7DA88C8>]],\n",
       "      dtype=object)"
      ]
     },
     "execution_count": 10,
     "metadata": {},
     "output_type": "execute_result"
    },
    {
     "data": {
      "image/png": "[encoded data removed]",
      "text/plain": [
       "<Figure size 864x576 with 16 Axes>"
      ]
     },
     "metadata": {
      "needs_background": "light"
     },
     "output_type": "display_data"
    }
   ],
   "source": [
    "attributes = [\"videoVistas\",\"canalVistas\", \"canalSuscriptores\",\"videoMeses\"]\n",
    "scatter_matrix(data[attributes], figsize=(12, 8))"
   ]
  },
  {
   "cell_type": "code",
   "execution_count": 11,
   "metadata": {},
   "outputs": [
    {
     "data": {
      "text/plain": [
       "Text(0.5, 0, 'Vistas')"
      ]
     },
     "execution_count": 11,
     "metadata": {},
     "output_type": "execute_result"
    },
    {
     "data": {
      "image/png": "[encoded data removed]",
      "text/plain": [
       "<Figure size 432x288 with 1 Axes>"
      ]
     },
     "metadata": {
      "needs_background": "light"
     },
     "output_type": "display_data"
    }
   ],
   "source": [
    "fig = plt.figure()\n",
    "ax = fig.add_subplot(111, projection='3d')\n",
    "ax.scatter(X['canalVistas'], X['canalSuscriptores'], Y, c='r', marker='o')\n",
    "ax.set_xlabel('canalVistas')\n",
    "ax.set_ylabel('canalSuscriptores')\n",
    "ax.set_zlabel('Vistas')"
   ]
  },
  {
   "cell_type": "markdown",
   "metadata": {},
   "source": [
    "# Preparación de datos"
   ]
  },
  {
   "cell_type": "code",
   "execution_count": 12,
   "metadata": {},
   "outputs": [],
   "source": [
    "Y = data[\"videoVistas\"]\n",
    "X = data.drop([\"videoVistas\",\"juegoNombre\",\"canalIdioma\"],axis=1)\n",
    "scaler = StandardScaler()\n",
    "scaler.fit(X)\n",
    "X_prepared = scaler.transform(X)\n",
    "X_train_prepared, X_test_prepared, y_train, y_test = train_test_split(X_prepared, Y, test_size = 0.2, random_state = 42)"
   ]
  },
  {
   "cell_type": "markdown",
   "metadata": {},
   "source": [
    "### Regresión Lineal simple"
   ]
  },
  {
   "cell_type": "code",
   "execution_count": 22,
   "metadata": {},
   "outputs": [
    {
     "data": {
      "text/plain": [
       "LinearRegression()"
      ]
     },
     "execution_count": 22,
     "metadata": {},
     "output_type": "execute_result"
    }
   ],
   "source": [
    "lin_reg = LinearRegression()\n",
    "lin_reg.fit(X_train_prepared, y_train)"
   ]
  },
  {
   "cell_type": "markdown",
   "metadata": {},
   "source": [
    "Score del entrenamiento"
   ]
  },
  {
   "cell_type": "code",
   "execution_count": 23,
   "metadata": {},
   "outputs": [
    {
     "data": {
      "text/plain": [
       "0.3722915626880212"
      ]
     },
     "execution_count": 23,
     "metadata": {},
     "output_type": "execute_result"
    }
   ],
   "source": [
    "lin_reg.score(X_train_prepared,y_train)"
   ]
  },
  {
   "cell_type": "markdown",
   "metadata": {},
   "source": [
    "Score del test"
   ]
  },
  {
   "cell_type": "code",
   "execution_count": 24,
   "metadata": {},
   "outputs": [
    {
     "data": {
      "text/plain": [
       "0.4922576904983208"
      ]
     },
     "execution_count": 24,
     "metadata": {},
     "output_type": "execute_result"
    }
   ],
   "source": [
    "lin_reg.score(X_test_prepared,y_test)"
   ]
  },
  {
   "cell_type": "markdown",
   "metadata": {},
   "source": [
    "Validación Cruzada"
   ]
  },
  {
   "cell_type": "code",
   "execution_count": 27,
   "metadata": {},
   "outputs": [
    {
     "data": {
      "text/plain": [
       "0.08346970796163736"
      ]
     },
     "execution_count": 27,
     "metadata": {},
     "output_type": "execute_result"
    }
   ],
   "source": [
    "from sklearn.model_selection import cross_val_score\n",
    "from sklearn.model_selection import KFold\n",
    "lin_reg_cross = LinearRegression()\n",
    "folds = KFold(n_splits = 10, shuffle = True, random_state = 42)\n",
    "scores = cross_val_score(lin_reg_cross, X_train_prepared, y_train,scoring='r2', cv=folds)\n",
    "scores.mean()"
   ]
  },
  {
   "cell_type": "markdown",
   "metadata": {},
   "source": [
    "### Regresión Lineal con regularización"
   ]
  },
  {
   "cell_type": "code",
   "execution_count": 28,
   "metadata": {},
   "outputs": [
    {
     "data": {
      "text/plain": [
       "Ridge(alpha=1)"
      ]
     },
     "execution_count": 28,
     "metadata": {},
     "output_type": "execute_result"
    }
   ],
   "source": [
    "lin_reg_ridge = Ridge(alpha=1)\n",
    "lin_reg_ridge.fit(X_train_prepared, y_train)"
   ]
  },
  {
   "cell_type": "markdown",
   "metadata": {},
   "source": [
    "Score entrenamiento"
   ]
  },
  {
   "cell_type": "code",
   "execution_count": 29,
   "metadata": {},
   "outputs": [
    {
     "data": {
      "text/plain": [
       "0.37229156237571703"
      ]
     },
     "execution_count": 29,
     "metadata": {},
     "output_type": "execute_result"
    }
   ],
   "source": [
    "lin_reg_ridge.score(X_train_prepared,y_train)"
   ]
  },
  {
   "cell_type": "markdown",
   "metadata": {},
   "source": [
    "Score prueba"
   ]
  },
  {
   "cell_type": "code",
   "execution_count": 30,
   "metadata": {},
   "outputs": [
    {
     "data": {
      "text/plain": [
       "0.4922451501085938"
      ]
     },
     "execution_count": 30,
     "metadata": {},
     "output_type": "execute_result"
    }
   ],
   "source": [
    "lin_reg_ridge.score(X_test_prepared,y_test)"
   ]
  },
  {
   "cell_type": "markdown",
   "metadata": {},
   "source": [
    "Validación cruzada"
   ]
  },
  {
   "cell_type": "code",
   "execution_count": 32,
   "metadata": {},
   "outputs": [
    {
     "data": {
      "text/plain": [
       "0.08346970796163736"
      ]
     },
     "execution_count": 32,
     "metadata": {},
     "output_type": "execute_result"
    }
   ],
   "source": [
    "lin_reg_ridge_cross = Ridge(alpha=1)\n",
    "folds = KFold(n_splits = 10, shuffle = True, random_state = 42)\n",
    "scores_ridge = cross_val_score(lin_reg_ridge_cross, X_train_prepared, y_train,scoring='r2', cv=folds)\n",
    "scores.mean()"
   ]
  },
  {
   "cell_type": "markdown",
   "metadata": {},
   "source": [
    "### Arbol de regresión"
   ]
  },
  {
   "cell_type": "code",
   "execution_count": 33,
   "metadata": {},
   "outputs": [
    {
     "name": "stdout",
     "output_type": "stream",
     "text": [
      "Produndidad: 10 \n"
     ]
    }
   ],
   "source": [
    "estimadores = 4\n",
    "deep = 10\n",
    "tree_reg = DecisionTreeRegressor(max_depth=deep)\n",
    "tree_reg.fit(X_train_prepared, y_train)\n",
    "print(f\"Produndidad: {deep} \")"
   ]
  },
  {
   "cell_type": "markdown",
   "metadata": {},
   "source": [
    "Score entrenamiento"
   ]
  },
  {
   "cell_type": "code",
   "execution_count": 34,
   "metadata": {},
   "outputs": [
    {
     "name": "stdout",
     "output_type": "stream",
     "text": [
      "Score entrenamiento Arbol regresion 0.9226553717888518\n"
     ]
    }
   ],
   "source": [
    "print(f\"Score entrenamiento Arbol regresion {tree_reg.score(X_train_prepared,y_train)}\")"
   ]
  },
  {
   "cell_type": "markdown",
   "metadata": {},
   "source": [
    "Score de la prueba"
   ]
  },
  {
   "cell_type": "code",
   "execution_count": 35,
   "metadata": {},
   "outputs": [
    {
     "name": "stdout",
     "output_type": "stream",
     "text": [
      "Score prueba Arbol regresion 0.8409686535348806\n"
     ]
    }
   ],
   "source": [
    "print(f\"Score prueba Arbol regresion {tree_reg.score(X_test_prepared,y_test)}\")"
   ]
  },
  {
   "cell_type": "markdown",
   "metadata": {},
   "source": [
    "Validación cruzada"
   ]
  },
  {
   "cell_type": "code",
   "execution_count": 36,
   "metadata": {},
   "outputs": [
    {
     "data": {
      "text/plain": [
       "0.5001740740299647"
      ]
     },
     "execution_count": 36,
     "metadata": {},
     "output_type": "execute_result"
    }
   ],
   "source": [
    "tree_reg_ridge_cross = DecisionTreeRegressor(max_depth=deep)\n",
    "folds = KFold(n_splits = 10, shuffle = True, random_state = 42)\n",
    "scores_tree_reg = cross_val_score(tree_reg_ridge_cross, X_train_prepared, y_train,scoring='r2', cv=folds)\n",
    "scores_tree_reg.mean()"
   ]
  },
  {
   "cell_type": "markdown",
   "metadata": {},
   "source": [
    "### Random Forest "
   ]
  },
  {
   "cell_type": "code",
   "execution_count": 37,
   "metadata": {},
   "outputs": [
    {
     "data": {
      "text/plain": [
       "RandomForestRegressor(max_depth=10, n_estimators=4, random_state=42)"
      ]
     },
     "execution_count": 37,
     "metadata": {},
     "output_type": "execute_result"
    }
   ],
   "source": [
    "from sklearn.ensemble import RandomForestRegressor\n",
    "rf = RandomForestRegressor(max_depth=deep,n_estimators = estimadores, random_state = 42)\n",
    "rf.fit(X_train_prepared, y_train)"
   ]
  },
  {
   "cell_type": "markdown",
   "metadata": {},
   "source": [
    "Score para el entrenamiento"
   ]
  },
  {
   "cell_type": "code",
   "execution_count": 38,
   "metadata": {},
   "outputs": [
    {
     "name": "stdout",
     "output_type": "stream",
     "text": [
      "El score para el train RF 0.9105227672240738\n"
     ]
    }
   ],
   "source": [
    "print(f\"El score para el train RF {rf.score(X_train_prepared,y_train)}\")"
   ]
  },
  {
   "cell_type": "markdown",
   "metadata": {},
   "source": [
    "Score para prueba"
   ]
  },
  {
   "cell_type": "code",
   "execution_count": 39,
   "metadata": {},
   "outputs": [
    {
     "name": "stdout",
     "output_type": "stream",
     "text": [
      "El score para el test RF 0.8469030034535622\n"
     ]
    }
   ],
   "source": [
    "print(f\"El score para el test RF {rf.score(X_test_prepared,y_test)}\")"
   ]
  },
  {
   "cell_type": "markdown",
   "metadata": {},
   "source": [
    "Validación cruzada"
   ]
  },
  {
   "cell_type": "code",
   "execution_count": 40,
   "metadata": {},
   "outputs": [
    {
     "data": {
      "text/plain": [
       "array([-0.55307725,  0.81232991,  0.68566928,  0.62632417,  0.69788423,\n",
       "        0.35592923,  0.7497116 ,  0.4776726 ,  0.26653859,  0.81269462])"
      ]
     },
     "execution_count": 40,
     "metadata": {},
     "output_type": "execute_result"
    }
   ],
   "source": [
    "rf_cross = RandomForestRegressor(max_depth=deep,n_estimators = estimadores, random_state = 42)\n",
    "folds = KFold(n_splits = 10, shuffle = True, random_state = 42)\n",
    "scores_rf = cross_val_score(rf_cross, X_prepared, Y,scoring='r2', cv=folds)\n",
    "scores_rf"
   ]
  },
  {
   "cell_type": "code",
   "execution_count": 41,
   "metadata": {},
   "outputs": [
    {
     "data": {
      "text/plain": [
       "0.4931676983188639"
      ]
     },
     "execution_count": 41,
     "metadata": {},
     "output_type": "execute_result"
    }
   ],
   "source": [
    "scores_rf.mean()"
   ]
  },
  {
   "cell_type": "markdown",
   "metadata": {},
   "source": [
    "# Libreria propia\n",
    "Aquí se utiliza una implementación del arbol de regresión propia no esta tan optimizada como la versión de sklearn pero se utilizo como practica y para validación de datos"
   ]
  },
  {
   "cell_type": "code",
   "execution_count": 104,
   "metadata": {},
   "outputs": [],
   "source": [
    "datap = pd.read_csv('BaseVideosFinal.csv')\n",
    "datap = datap.drop(['juegoNombre','canalIdioma','juegoAno','juegoURL','VideoNombre','juegoPalabras','juegoLugar','videoURL','videoMesesVistas','coincidencias','canalNombre','canalURL'],axis=1)\n",
    "Y_mio = datap[\"videoVistas\"]\n",
    "X_mio = datap.drop([\"videoVistas\"],axis=1)"
   ]
  },
  {
   "cell_type": "code",
   "execution_count": 105,
   "metadata": {},
   "outputs": [],
   "source": [
    "X_train_mio, X_test_mio, y_train_mio, y_test_mio = train_test_split(X, Y, test_size = 0.2, random_state = 42)"
   ]
  },
  {
   "cell_type": "code",
   "execution_count": 106,
   "metadata": {},
   "outputs": [],
   "source": [
    "arbol = rarbol.arbolRegresion(y_train_mio,X_train_mio,\"RSS\",20,10)"
   ]
  },
  {
   "cell_type": "code",
   "execution_count": 108,
   "metadata": {},
   "outputs": [],
   "source": [
    "arbol.entrenar()"
   ]
  },
  {
   "cell_type": "code",
   "execution_count": 85,
   "metadata": {},
   "outputs": [
    {
     "name": "stdout",
     "output_type": "stream",
     "text": [
      "|--- juegoAvRating <= 9.094999999999999\n",
      "|   |--- canalMeses <= 4.5\n",
      "|   |   |    valor: 6.555555555555555\n",
      "|   |--- canalMeses > 4.5\n",
      "|   |   |--- juegoVoters <= 108.5\n",
      "|   |   |   |    valor: 884.2857142857143\n",
      "|   |   |--- juegoVoters > 108.5\n",
      "|   |   |   |--- juegoVoters <= 113.0\n",
      "|   |   |   |   |    valor: 631.8181818181819\n",
      "|   |   |   |--- juegoVoters > 113.0\n",
      "|   |   |   |   |--- juegoVoters <= 115.5\n",
      "|   |   |   |   |   |    valor: 769.2857142857143\n",
      "|   |   |   |   |--- juegoVoters > 115.5\n",
      "|   |   |   |   |   |--- canalVistas <= 2020.0\n",
      "|   |   |   |   |   |   |--- juegoAno <= 2018.5\n",
      "|   |   |   |   |   |   |   |--- juegoRating <= 7.533\n",
      "|   |   |   |   |   |   |   |   |--- juegoAno <= 2017.0\n",
      "|   |   |   |   |   |   |   |   |   |--- juegoRating <= 5.8835\n",
      "|   |   |   |   |   |   |   |   |   |   |    valor: 12.0\n",
      "|   |   |   |   |   |   |   |   |   |--- juegoRating > 5.8835\n",
      "|   |   |   |   |   |   |   |   |   |   |    valor: 22.266666666666666\n",
      "|   |   |   |   |   |   |   |   |--- juegoAno > 2017.0\n",
      "|   |   |   |   |   |   |   |   |   |    valor: 8.0\n",
      "|   |   |   |   |   |   |   |--- juegoRating > 7.533\n",
      "|   |   |   |   |   |   |   |   |    valor: 6.0\n",
      "|   |   |   |   |   |   |--- juegoAno > 2018.5\n",
      "|   |   |   |   |   |   |   |    valor: 4.0\n",
      "|   |   |   |   |   |--- canalVistas > 2020.0\n",
      "|   |   |   |   |   |   |--- canalVistas <= 2085.0\n",
      "|   |   |   |   |   |   |   |--- juegoAvRating <= 7.17\n",
      "|   |   |   |   |   |   |   |   |    valor: 3.0\n",
      "|   |   |   |   |   |   |   |--- juegoAvRating > 7.17\n",
      "|   |   |   |   |   |   |   |   |--- videoMeses <= 3.5\n",
      "|   |   |   |   |   |   |   |   |   |    valor: 5.0\n",
      "|   |   |   |   |   |   |   |   |--- videoMeses > 3.5\n",
      "|   |   |   |   |   |   |   |   |   |--- juegoVoters <= 913.5\n",
      "|   |   |   |   |   |   |   |   |   |   |    valor: 7.0\n",
      "|   |   |   |   |   |   |   |   |   |--- juegoVoters > 913.5\n",
      "|   |   |   |   |   |   |   |   |   |   |    valor: 41.2\n",
      "|   |   |   |   |   |   |--- canalVistas > 2085.0\n",
      "|   |   |   |   |   |   |   |--- canalVistas <= 2678.0\n",
      "|   |   |   |   |   |   |   |   |    valor: 48.714285714285715\n",
      "|   |   |   |   |   |   |   |--- canalVistas > 2678.0\n",
      "|   |   |   |   |   |   |   |   |--- canalVistas <= 3213.0\n",
      "|   |   |   |   |   |   |   |   |   |    valor: 26.63157894736842\n",
      "|   |   |   |   |   |   |   |   |--- canalVistas > 3213.0\n",
      "|   |   |   |   |   |   |   |   |   |--- canalVistas <= 3306.0\n",
      "|   |   |   |   |   |   |   |   |   |   |    valor: 116.78947368421052\n",
      "|   |   |   |   |   |   |   |   |   |--- canalVistas > 3306.0\n",
      "|   |   |   |   |   |   |   |   |   |   |    valor: 9982.995564296172\n",
      "|--- juegoAvRating > 9.094999999999999\n",
      "|   |    valor: 8475.5\n"
     ]
    }
   ],
   "source": [
    "arbol.imprimirArbol()"
   ]
  },
  {
   "cell_type": "code",
   "execution_count": 109,
   "metadata": {},
   "outputs": [
    {
     "name": "stdout",
     "output_type": "stream",
     "text": [
      "El valor de la calificación para el set de entrenamiento es: 0.750875536952595\n"
     ]
    }
   ],
   "source": [
    "print(f\"El valor de la calificación para el set de entrenamiento es: {arbol.calEntrenamieto()}\")"
   ]
  },
  {
   "cell_type": "code",
   "execution_count": 110,
   "metadata": {},
   "outputs": [
    {
     "name": "stdout",
     "output_type": "stream",
     "text": [
      "El valor de la calificación para el set de Prueba es: 0.4914140724302466\n"
     ]
    }
   ],
   "source": [
    "print(f\"El valor de la calificación para el set de Prueba es: {arbol.calPrueba(X_test_mio,y_test_mio)}\")"
   ]
  },
  {
   "cell_type": "code",
   "execution_count": null,
   "metadata": {},
   "outputs": [],
   "source": []
  }
 ],
 "metadata": {
  "kernelspec": {
   "display_name": "Python 3",
   "language": "python",
   "name": "python3"
  },
  "language_info": {
   "codemirror_mode": {
    "name": "ipython",
    "version": 3
   },
   "file_extension": ".py",
   "mimetype": "text/x-python",
   "name": "python",
   "nbconvert_exporter": "python",
   "pygments_lexer": "ipython3",
   "version": "3.7.6"
  }
 },
 "nbformat": 4,
 "nbformat_minor": 4
}
